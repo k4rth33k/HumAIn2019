{
 "cells": [
  {
   "cell_type": "markdown",
   "metadata": {},
   "source": [
    "# Energy Consumption Forecast\n",
    "**This notebook is a part of Solution Submission round of TCS HumAIn 2019 contest.**\n",
    "\n",
    "## Problem Statement\n",
    "Forecast the electricity consumption of top 3 households with highest number of samples on an hourly basis based on the previous usage pattern. The major features for analysis includes household id, the plans used (standard or dynamic time of use), date, time, meter readings in Kwh and acorn groups."
   ]
  },
  {
   "cell_type": "code",
   "execution_count": 147,
   "metadata": {},
   "outputs": [],
   "source": [
    "import pandas as pd\n",
    "import matplotlib.pyplot as plt\n",
    "import numpy as np\n",
    "import tensorflow as tf\n",
    "import seaborn as sns\n",
    "from keras_radam.training import RAdamOptimizer"
   ]
  },
  {
   "cell_type": "code",
   "execution_count": 148,
   "metadata": {},
   "outputs": [
    {
     "data": {
      "text/html": [
       "<div>\n",
       "<style scoped>\n",
       "    .dataframe tbody tr th:only-of-type {\n",
       "        vertical-align: middle;\n",
       "    }\n",
       "\n",
       "    .dataframe tbody tr th {\n",
       "        vertical-align: top;\n",
       "    }\n",
       "\n",
       "    .dataframe thead th {\n",
       "        text-align: right;\n",
       "    }\n",
       "</style>\n",
       "<table border=\"1\" class=\"dataframe\">\n",
       "  <thead>\n",
       "    <tr style=\"text-align: right;\">\n",
       "      <th></th>\n",
       "      <th>LCLid</th>\n",
       "      <th>stdorToU</th>\n",
       "      <th>DateTime</th>\n",
       "      <th>KWh</th>\n",
       "      <th>Acorn</th>\n",
       "      <th>Acorn_grouped</th>\n",
       "    </tr>\n",
       "  </thead>\n",
       "  <tbody>\n",
       "    <tr>\n",
       "      <th>0</th>\n",
       "      <td>MAC000002</td>\n",
       "      <td>Std</td>\n",
       "      <td>2012-10-12 00:30:00.0000000</td>\n",
       "      <td>0.0</td>\n",
       "      <td>ACORN-A</td>\n",
       "      <td>Affluent</td>\n",
       "    </tr>\n",
       "    <tr>\n",
       "      <th>1</th>\n",
       "      <td>MAC000002</td>\n",
       "      <td>Std</td>\n",
       "      <td>2012-10-12 01:00:00.0000000</td>\n",
       "      <td>0.0</td>\n",
       "      <td>ACORN-A</td>\n",
       "      <td>Affluent</td>\n",
       "    </tr>\n",
       "    <tr>\n",
       "      <th>2</th>\n",
       "      <td>MAC000002</td>\n",
       "      <td>Std</td>\n",
       "      <td>2012-10-12 01:30:00.0000000</td>\n",
       "      <td>0.0</td>\n",
       "      <td>ACORN-A</td>\n",
       "      <td>Affluent</td>\n",
       "    </tr>\n",
       "    <tr>\n",
       "      <th>3</th>\n",
       "      <td>MAC000002</td>\n",
       "      <td>Std</td>\n",
       "      <td>2012-10-12 02:00:00.0000000</td>\n",
       "      <td>0.0</td>\n",
       "      <td>ACORN-A</td>\n",
       "      <td>Affluent</td>\n",
       "    </tr>\n",
       "    <tr>\n",
       "      <th>4</th>\n",
       "      <td>MAC000002</td>\n",
       "      <td>Std</td>\n",
       "      <td>2012-10-12 02:30:00.0000000</td>\n",
       "      <td>0.0</td>\n",
       "      <td>ACORN-A</td>\n",
       "      <td>Affluent</td>\n",
       "    </tr>\n",
       "  </tbody>\n",
       "</table>\n",
       "</div>"
      ],
      "text/plain": [
       "       LCLid stdorToU                     DateTime  KWh    Acorn Acorn_grouped\n",
       "0  MAC000002      Std  2012-10-12 00:30:00.0000000  0.0  ACORN-A      Affluent\n",
       "1  MAC000002      Std  2012-10-12 01:00:00.0000000  0.0  ACORN-A      Affluent\n",
       "2  MAC000002      Std  2012-10-12 01:30:00.0000000  0.0  ACORN-A      Affluent\n",
       "3  MAC000002      Std  2012-10-12 02:00:00.0000000  0.0  ACORN-A      Affluent\n",
       "4  MAC000002      Std  2012-10-12 02:30:00.0000000  0.0  ACORN-A      Affluent"
      ]
     },
     "execution_count": 148,
     "metadata": {},
     "output_type": "execute_result"
    }
   ],
   "source": [
    "df = pd.read_csv('Power-Networks-LCL.csv')\n",
    "df.head()"
   ]
  },
  {
   "cell_type": "markdown",
   "metadata": {},
   "source": [
    "The top 3 households with highest number of samples are extracted."
   ]
  },
  {
   "cell_type": "code",
   "execution_count": 149,
   "metadata": {},
   "outputs": [
    {
     "data": {
      "text/plain": [
       "array(['MAC000018', 'MAC000021', 'MAC000020'], dtype=object)"
      ]
     },
     "execution_count": 149,
     "metadata": {},
     "output_type": "execute_result"
    }
   ],
   "source": [
    "df = pd.read_csv('Power-Networks-LCL.csv')\n",
    "# Top 3 Households with highest number of samples\n",
    "top3 = df.groupby('LCLid').count().sort_values(by=['stdorToU'], ascending=False)[:3]\n",
    "top3_house_ids = top3.index.values\n",
    "top3_house_ids"
   ]
  },
  {
   "cell_type": "code",
   "execution_count": 150,
   "metadata": {},
   "outputs": [
    {
     "name": "stderr",
     "output_type": "stream",
     "text": [
      "c:\\users\\kartheek\\appdata\\local\\programs\\python\\python36\\lib\\site-packages\\ipykernel_launcher.py:6: SettingWithCopyWarning: \n",
      "A value is trying to be set on a copy of a slice from a DataFrame.\n",
      "Try using .loc[row_indexer,col_indexer] = value instead\n",
      "\n",
      "See the caveats in the documentation: http://pandas.pydata.org/pandas-docs/stable/indexing.html#indexing-view-versus-copy\n",
      "  \n"
     ]
    },
    {
     "data": {
      "image/png": "[encoded data removed]",
      "text/plain": [
       "<Figure size 720x576 with 2 Axes>"
      ]
     },
     "metadata": {
      "needs_background": "light"
     },
     "output_type": "display_data"
    }
   ],
   "source": [
    "# Lets take a look at how each of the colums relate to each other\n",
    "temp_df = df[(df['LCLid'] == top3_house_ids[0])]\n",
    "\n",
    "for dt in temp_df.columns:\n",
    "        if str(temp_df[dt].dtype) == 'object':\n",
    "            temp_df[dt] = temp_df[dt].replace(to_replace=temp_df[dt].unique(), value=list(range(len(temp_df[dt].unique()))))\n",
    "            \n",
    "f, ax = plt.subplots(figsize=(10, 8))\n",
    "ax.title.set_text('Correlation Matrix')\n",
    "corr = temp_df.corr()\n",
    "sns.heatmap(corr, mask=np.zeros_like(corr, dtype=np.bool), cmap=sns.diverging_palette(220, 10, as_cmap=True),\n",
    "            square=True, ax=ax)\n",
    "plt.show()"
   ]
  },
  {
   "cell_type": "markdown",
   "metadata": {},
   "source": [
    "Other data like Acorn Group are stripped off as they have no relation with the target variable."
   ]
  },
  {
   "cell_type": "code",
   "execution_count": 151,
   "metadata": {
    "scrolled": false
   },
   "outputs": [],
   "source": [
    "def get_data_from_id(df, id):\n",
    "    temp_df = df[(df['LCLid'] == id)]\n",
    "    # The columns with same value for each ID are removed\n",
    "    temp_df = temp_df.drop(columns=['LCLid', 'stdorToU', 'Acorn', 'Acorn_grouped'])\n",
    "    return temp_df\n",
    "\n",
    "dfs = list()\n",
    "total_len = 39078\n",
    "for id in top3_house_ids:\n",
    "    dfs.append(get_data_from_id(df, id)[:total_len])"
   ]
  },
  {
   "cell_type": "markdown",
   "metadata": {},
   "source": [
    "## **Pearson's Correlation**\n",
    "Person correlation of each series with respect to the other is positive.This implies that *Multiple Parallel Time Series Forecasting* may not be the optimal solution as the weights may generate correlation and eventually lead to Overfiiting. The next optimal solution would be to perform Univariate Time Series Forecast on the data\n"
   ]
  },
  {
   "cell_type": "code",
   "execution_count": 152,
   "metadata": {},
   "outputs": [
    {
     "name": "stdout",
     "output_type": "stream",
     "text": [
      "Pearson Correlation:\n",
      "corr of House0 and House1 = (0.041860408786368215, 1.2484681843640842e-16)\n",
      "corr of House0 and House2 = (0.062306505781805716, 6.36736502292751e-35)\n",
      "corr of House1 and House2 = (0.1264494357440413, 5.401410272889934e-139)\n"
     ]
    }
   ],
   "source": [
    "from scipy.stats import pearsonr\n",
    "   \n",
    "comb = [(0, 1), (0, 2), (1, 2)]\n",
    "print('Pearson Correlation:')\n",
    "for c in comb:\n",
    "    corr = pearsonr(dfs[c[0]]['KWh'].values, dfs[c[1]]['KWh'].values)\n",
    "    print('corr of House{} and House{} = {}'.format(c[0], c[1], corr))"
   ]
  },
  {
   "cell_type": "markdown",
   "metadata": {},
   "source": [
    " The problem statement has specified that **hourly** analysis has to be performed.Hence the **timestep** has to be **2** as each data point is recorded for each half hour."
   ]
  },
  {
   "cell_type": "code",
   "execution_count": 153,
   "metadata": {},
   "outputs": [],
   "source": [
    "# defining the batch size and number of epochs\n",
    "batch_size = 64\n",
    "epochs = 30\n",
    "## Timesteps have to be 2 (Refer above cell)\n",
    "timesteps = 2 \n",
    "series = 1"
   ]
  },
  {
   "cell_type": "code",
   "execution_count": 154,
   "metadata": {},
   "outputs": [
    {
     "name": "stdout",
     "output_type": "stream",
     "text": [
      "35136\n"
     ]
    }
   ],
   "source": [
    "def get_train_length(dataset, batch_size, test_percent):\n",
    "    # substract test_percent to be excluded from training, reserved for testset\n",
    "    length = len(dataset)\n",
    "    length *= 1 - test_percent\n",
    "    train_length_values = []\n",
    "    for x in range(int(length) - 100,int(length)): \n",
    "        modulo=x%batch_size\n",
    "        if (modulo == 0):\n",
    "            train_length_values.append(x)\n",
    "\n",
    "    return (max(train_length_values))\n",
    "\n",
    "length = get_train_length(dfs[0], batch_size, 0.1)\n",
    "print(length)"
   ]
  },
  {
   "cell_type": "code",
   "execution_count": 155,
   "metadata": {},
   "outputs": [
    {
     "name": "stdout",
     "output_type": "stream",
     "text": [
      "(35140, 1)\n",
      "(35140, 1)\n",
      "(35140, 1)\n"
     ]
    }
   ],
   "source": [
    "upper_train = length + timesteps*2\n",
    "split_vals = []\n",
    "for _df in dfs:\n",
    "    x = _df[0:upper_train]\n",
    "    x = x['KWh'].values.reshape((-1,1))\n",
    "    print(x.shape)\n",
    "    split_vals.append(x)"
   ]
  },
  {
   "cell_type": "code",
   "execution_count": 156,
   "metadata": {},
   "outputs": [
    {
     "data": {
      "text/plain": [
       "[array([[0.10749999],\n",
       "        [0.056     ],\n",
       "        [0.065     ],\n",
       "        ...,\n",
       "        [0.0115    ],\n",
       "        [0.012     ],\n",
       "        [0.012     ]]), array([[0.146593  ],\n",
       "        [0.093186  ],\n",
       "        [0.13996316],\n",
       "        ...,\n",
       "        [0.09907919],\n",
       "        [0.09797421],\n",
       "        [0.10460405]]), array([[0.12644836],\n",
       "        [0.10428211],\n",
       "        [0.0906801 ],\n",
       "        ...,\n",
       "        [0.07103274],\n",
       "        [0.02821159],\n",
       "        [0.0115869 ]])]"
      ]
     },
     "execution_count": 156,
     "metadata": {},
     "output_type": "execute_result"
    }
   ],
   "source": [
    "from sklearn.preprocessing import MinMaxScaler\n",
    "sc = MinMaxScaler(feature_range = (0, 1))\n",
    "normalized_vals = list()\n",
    "for data in split_vals:\n",
    "    training_set_scaled = sc.fit_transform(np.float64(data))\n",
    "    normalized_vals.append(training_set_scaled)\n",
    "    \n",
    "normalized_vals"
   ]
  },
  {
   "cell_type": "code",
   "execution_count": 157,
   "metadata": {},
   "outputs": [],
   "source": [
    "def x_y_split(index):\n",
    "    \"\"\"Index has to be between 0 and 2 considering top 3 households\"\"\"\n",
    "    X_train = []\n",
    "    y_train = []\n",
    "\n",
    "    for i in range(timesteps, length + timesteps): \n",
    "        X_train.append(normalized_vals[index][i-timesteps:i,0])\n",
    "        y_train.append(normalized_vals[index][i:i+timesteps,0])\n",
    "        \n",
    "    X_train, y_train = np.array(X_train), np.array(y_train)\n",
    "    X_train = np.reshape(X_train, (length, timesteps, series))\n",
    "    y_train = np.reshape(y_train, (y_train.shape[0], y_train.shape[1], series))\n",
    "    \n",
    "    return X_train, y_train"
   ]
  },
  {
   "cell_type": "code",
   "execution_count": 158,
   "metadata": {},
   "outputs": [
    {
     "name": "stdout",
     "output_type": "stream",
     "text": [
      "(35136, 2, 1)\n",
      "(35136, 2, 1)\n"
     ]
    }
   ],
   "source": [
    "## CHANGE INDEX FOR OTHER TWO HOUSEHOLDS\n",
    "index = 0 # For 1st household\n",
    "##\n",
    "\n",
    "X_train, y_train = x_y_split(0)\n",
    "\n",
    "print(X_train.shape)\n",
    "print(y_train.shape)"
   ]
  },
  {
   "cell_type": "markdown",
   "metadata": {},
   "source": [
    "## Building the model and Training\n"
   ]
  },
  {
   "cell_type": "code",
   "execution_count": 159,
   "metadata": {},
   "outputs": [
    {
     "name": "stdout",
     "output_type": "stream",
     "text": [
      "Model: \"sequential_7\"\n",
      "_________________________________________________________________\n",
      "Layer (type)                 Output Shape              Param #   \n",
      "=================================================================\n",
      "lstm_21 (LSTM)               (None, 2, 100)            40800     \n",
      "_________________________________________________________________\n",
      "lstm_22 (LSTM)               (None, 2, 100)            80400     \n",
      "_________________________________________________________________\n",
      "lstm_23 (LSTM)               (None, 2, 100)            80400     \n",
      "_________________________________________________________________\n",
      "dense_7 (Dense)              (None, 2, 1)              101       \n",
      "=================================================================\n",
      "Total params: 201,701\n",
      "Trainable params: 201,701\n",
      "Non-trainable params: 0\n",
      "_________________________________________________________________\n"
     ]
    }
   ],
   "source": [
    "# Building the model\n",
    "regressor_mae = tf.keras.Sequential()\n",
    "regressor_mae.add(tf.keras.layers.LSTM(100, stateful=False, return_sequences=True, input_shape=(2, series)))\n",
    "regressor_mae.add(tf.keras.layers.LSTM(100, stateful=False, return_sequences=True))\n",
    "regressor_mae.add(tf.keras.layers.LSTM(100, stateful=False, return_sequences=True))\n",
    "optimizer = RAdamOptimizer()\n",
    "regressor_mae.add(tf.keras.layers.Dense(1))\n",
    "regressor_mae.compile(optimizer=optimizer, loss = 'mae')\n",
    "regressor_mae.summary()"
   ]
  },
  {
   "cell_type": "code",
   "execution_count": 160,
   "metadata": {
    "scrolled": false
   },
   "outputs": [
    {
     "name": "stdout",
     "output_type": "stream",
     "text": [
      "Epoch: 0\n",
      "35136/35136 [==============================] - 22s 615us/sample - loss: 0.0472\n",
      "Epoch: 1\n",
      "35136/35136 [==============================] - 18s 503us/sample - loss: 0.0380\n",
      "Epoch: 2\n",
      "35136/35136 [==============================] - 18s 505us/sample - loss: 0.0347\n",
      "Epoch: 3\n",
      "35136/35136 [==============================] - 18s 519us/sample - loss: 0.0341\n",
      "Epoch: 4\n",
      "35136/35136 [==============================] - 18s 507us/sample - loss: 0.0339\n",
      "Epoch: 5\n",
      "35136/35136 [==============================] - 18s 511us/sample - loss: 0.0337\n",
      "Epoch: 6\n",
      "35136/35136 [==============================] - 17s 482us/sample - loss: 0.0334\n",
      "Epoch: 7\n",
      "35136/35136 [==============================] - 18s 509us/sample - loss: 0.0332\n",
      "Epoch: 8\n",
      "35136/35136 [==============================] - 18s 508us/sample - loss: 0.0331\n",
      "Epoch: 9\n",
      "35136/35136 [==============================] - 17s 477us/sample - loss: 0.0331\n",
      "Epoch: 10\n",
      "35136/35136 [==============================] - 17s 479us/sample - loss: 0.0331\n",
      "Epoch: 11\n",
      "35136/35136 [==============================] - 17s 477us/sample - loss: 0.0330 - loss: \n",
      "Epoch: 12\n",
      "35136/35136 [==============================] - 18s 500us/sample - loss: 0.0330 -\n",
      "Epoch: 13\n",
      "35136/35136 [==============================] - 18s 499us/sample - loss: 0.0330\n",
      "Epoch: 14\n",
      "35136/35136 [==============================] - 17s 495us/sample - loss: 0.0330\n",
      "Epoch: 15\n",
      "35136/35136 [==============================] - 17s 476us/sample - loss: 0.0330\n",
      "Epoch: 16\n",
      "35136/35136 [==============================] - 17s 480us/sample - loss: 0.0330\n",
      "Epoch: 17\n",
      "35136/35136 [==============================] - 17s 474us/sample - loss: 0.0330\n",
      "Epoch: 18\n",
      "35136/35136 [==============================] - 17s 489us/sample - loss: 0.0330\n",
      "Epoch: 19\n",
      "35136/35136 [==============================] - 18s 499us/sample - loss: 0.0330\n",
      "Epoch: 20\n",
      "35136/35136 [==============================] - 17s 497us/sample - loss: 0.0330\n",
      "Epoch: 21\n",
      "35136/35136 [==============================] - 17s 477us/sample - loss: 0.0330 - loss: 0.\n",
      "Epoch: 22\n",
      "35136/35136 [==============================] - 18s 505us/sample - loss: 0.0330 - loss: 0\n",
      "Epoch: 23\n",
      "35136/35136 [==============================] - 19s 536us/sample - loss: 0.0330\n",
      "Epoch: 24\n",
      "35136/35136 [==============================] - 18s 500us/sample - loss: 0.0330 - loss: 0.0 - ETA: 1s - loss: 0.03\n",
      "Epoch: 25\n",
      "35136/35136 [==============================] - 18s 505us/sample - loss: 0.0330 - - ETA: 0s - loss: 0.\n",
      "Epoch: 26\n",
      "35136/35136 [==============================] - 18s 505us/sample - loss: 0.0330\n",
      "Epoch: 27\n",
      "35136/35136 [==============================] - 17s 477us/sample - loss: 0.0330\n",
      "Epoch: 28\n",
      "35136/35136 [==============================] - 16s 467us/sample - loss: 0.0330\n",
      "Epoch: 29\n",
      "35136/35136 [==============================] - 17s 493us/sample - loss: 0.0330\n"
     ]
    }
   ],
   "source": [
    "for i in range(epochs):\n",
    "    print(\"Epoch: \" + str(i))\n",
    "    regressor_mae.fit(X_train, y_train, shuffle=False, epochs = 1)\n",
    "    regressor_mae.reset_states()"
   ]
  },
  {
   "cell_type": "code",
   "execution_count": 161,
   "metadata": {},
   "outputs": [],
   "source": [
    "def get_test_length(index, batch_size): \n",
    "    dataset = dfs[index]\n",
    "    test_length_values = []\n",
    "    for x in range(len(dataset) - 200, len(dataset) - timesteps*2): \n",
    "        modulo=(x-upper_train)%batch_size\n",
    "        if (modulo == 0):\n",
    "            test_length_values.append(x)\n",
    "#             print(x)\n",
    "    return (max(test_length_values))"
   ]
  },
  {
   "cell_type": "code",
   "execution_count": 162,
   "metadata": {},
   "outputs": [
    {
     "name": "stdout",
     "output_type": "stream",
     "text": [
      "39044\n",
      "3904\n"
     ]
    }
   ],
   "source": [
    "test_length = get_test_length(index, batch_size)\n",
    "print(test_length)\n",
    "upper_test = test_length + timesteps*2\n",
    "testset_length = test_length - upper_train\n",
    "print(testset_length)"
   ]
  },
  {
   "cell_type": "code",
   "execution_count": 163,
   "metadata": {},
   "outputs": [],
   "source": [
    "#subsetting\n",
    "def get_test_data(index):\n",
    "    df_test = dfs[index][upper_train:upper_test] \n",
    "    test_set = df_test['KWh'].values.reshape(-1,1)\n",
    "\n",
    "    #scaling\n",
    "    scaled_real_bcg_values_test = sc.fit_transform(np.float64(test_set))\n",
    "\n",
    "    #creating input data\n",
    "    X_test = []\n",
    "    for i in range(timesteps, testset_length + timesteps):\n",
    "         X_test.append(scaled_real_bcg_values_test[i-timesteps:i, 0])\n",
    "    X_test = np.array(X_test)\n",
    "\n",
    "    #reshaping\n",
    "    X_test = np.reshape(X_test, (X_test.shape[0], X_test.shape[1], 1))\n",
    "    \n",
    "    return X_test, test_set\n",
    "\n",
    "X_test, test_set = get_test_data(index)"
   ]
  },
  {
   "cell_type": "code",
   "execution_count": 164,
   "metadata": {},
   "outputs": [
    {
     "name": "stdout",
     "output_type": "stream",
     "text": [
      "(3904, 2, 1)\n",
      "(3904, 2)\n",
      "(3902, 1)\n"
     ]
    }
   ],
   "source": [
    "#prediction\n",
    "predicted_bcg_values_test_mae = regressor_mae.predict(X_test, batch_size=batch_size)\n",
    "regressor_mae.reset_states()\n",
    "\n",
    "print(predicted_bcg_values_test_mae.shape)\n",
    "\n",
    "# reshaping\n",
    "predicted_bcg_values_test_mae = np.reshape(predicted_bcg_values_test_mae, \n",
    "                                       (predicted_bcg_values_test_mae.shape[0], \n",
    "                                        predicted_bcg_values_test_mae.shape[1]))\n",
    "\n",
    "print(predicted_bcg_values_test_mae.shape)\n",
    "#inverse transform\n",
    "predicted_bcg_values_test_mae = sc.inverse_transform(predicted_bcg_values_test_mae)\n",
    "\n",
    "\n",
    "#creating y_test data\n",
    "y_test = []\n",
    "for j in range(0, testset_length - timesteps):\n",
    "    y_test = np.append(y_test, predicted_bcg_values_test_mae[j, timesteps-1])\n",
    "\n",
    "# reshaping\n",
    "y_test = np.reshape(y_test, (y_test.shape[0], 1))\n",
    "\n",
    "print(y_test.shape)"
   ]
  },
  {
   "cell_type": "markdown",
   "metadata": {},
   "source": [
    "## Visualising the results\n"
   ]
  },
  {
   "cell_type": "code",
   "execution_count": 168,
   "metadata": {},
   "outputs": [
    {
     "data": {
      "image/png": "[encoded data removed]",
      "text/plain": [
       "<Figure size 432x288 with 1 Axes>"
      ]
     },
     "metadata": {
      "needs_background": "light"
     },
     "output_type": "display_data"
    }
   ],
   "source": [
    "plt.plot(test_set[timesteps:len(y_test)], color = 'red', label = 'Real')\n",
    "plt.plot(y_test[0:len(y_test) - timesteps], color = 'black', label = 'Predicted')\n",
    "plt.title('Energy Consumption Forecast - MAE')\n",
    "plt.xlabel('Time')\n",
    "plt.ylabel('KWh')\n",
    "plt.legend()\n",
    "plt.savefig('plot.png')\n",
    "# plt.show()"
   ]
  },
  {
   "cell_type": "markdown",
   "metadata": {},
   "source": [
    "## Evaluation Metrics"
   ]
  },
  {
   "cell_type": "code",
   "execution_count": 166,
   "metadata": {},
   "outputs": [
    {
     "name": "stdout",
     "output_type": "stream",
     "text": [
      "0.07848251544798794\n"
     ]
    }
   ],
   "source": [
    "import math\n",
    "from sklearn.metrics import mean_squared_error\n",
    "rmse = math.sqrt(mean_squared_error(test_set[timesteps:len(y_test)], y_test[0:len(y_test) - timesteps]))\n",
    "print(rmse)"
   ]
  },
  {
   "cell_type": "code",
   "execution_count": 167,
   "metadata": {},
   "outputs": [
    {
     "name": "stdout",
     "output_type": "stream",
     "text": [
      "0.025633887254010737\n"
     ]
    }
   ],
   "source": [
    "from sklearn.metrics import mean_absolute_error\n",
    "mae = mean_absolute_error(test_set[timesteps:len(y_test)], y_test[0:len(y_test) - timesteps])\n",
    "print(mae)"
   ]
  }
 ],
 "metadata": {
  "kernelspec": {
   "display_name": "Python 3",
   "language": "python",
   "name": "python3"
  },
  "language_info": {
   "codemirror_mode": {
    "name": "ipython",
    "version": 3
   },
   "file_extension": ".py",
   "mimetype": "text/x-python",
   "name": "python",
   "nbconvert_exporter": "python",
   "pygments_lexer": "ipython3",
   "version": "3.6.7"
  }
 },
 "nbformat": 4,
 "nbformat_minor": 2
}
